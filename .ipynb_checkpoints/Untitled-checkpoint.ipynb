{
 "cells": [
  {
   "cell_type": "code",
   "execution_count": 3,
   "metadata": {},
   "outputs": [
    {
     "name": "stderr",
     "output_type": "stream",
     "text": [
      "/usr/local/anaconda3/envs/py2/lib/python2.7/site-packages/torch/serialization.py:367: SourceChangeWarning: source code of class 'models.attention_global.AttentionGlobal' has changed. you can retrieve the original source code by accessing the object's source attribute or set `torch.nn.Module.dump_patches = True` and use the patch tool to revert the changes.\n",
      "  warnings.warn(msg, SourceChangeWarning)\n"
     ]
    },
    {
     "data": {
      "text/plain": [
       "MultiNoRBF(\n",
       "  (state_model): LookupModel(\n",
       "    (embed): Embedding(2, 1, padding_idx=0)\n",
       "  )\n",
       "  (object_model): LookupModel(\n",
       "    (embed): Embedding(11, 7, padding_idx=0)\n",
       "  )\n",
       "  (heatmap_model): AttentionGlobal(\n",
       "    (text_model): TextModel(\n",
       "      (encoder): Embedding(218, 15, padding_idx=0)\n",
       "      (rnn): LSTM(15, 30)\n",
       "      (decoder): Linear(in_features=30, out_features=66, bias=True)\n",
       "    )\n",
       "    (conv_custom): ConvKernel(7, 1, kernel_size=(3, 3), stride=(1, 1), padding=(1, 1), bias=False)\n",
       "  )\n",
       "  (simple_conv): SimpleConv(\n",
       "    (conv1): Conv2d(3, 3, kernel_size=(3, 3), stride=(1, 1), padding=(1, 1))\n",
       "    (conv2): Conv2d(3, 6, kernel_size=(3, 3), stride=(1, 1), padding=(1, 1))\n",
       "    (conv3): Conv2d(6, 12, kernel_size=(3, 3), stride=(1, 1), padding=(1, 1))\n",
       "    (conv4): Conv2d(12, 18, kernel_size=(3, 3), stride=(1, 1), padding=(1, 1))\n",
       "    (conv5): Conv2d(18, 24, kernel_size=(3, 3), stride=(1, 1), padding=(1, 1))\n",
       "    (conv6): Conv2d(24, 18, kernel_size=(3, 3), stride=(1, 1), padding=(1, 1))\n",
       "    (conv7): Conv2d(18, 12, kernel_size=(3, 3), stride=(1, 1), padding=(1, 1))\n",
       "    (conv8): Conv2d(12, 6, kernel_size=(3, 3), stride=(1, 1), padding=(1, 1))\n",
       "    (conv9): Conv2d(6, 3, kernel_size=(3, 3), stride=(1, 1), padding=(1, 1))\n",
       "    (conv10): Conv2d(3, 1, kernel_size=(3, 3), stride=(1, 1), padding=(1, 1))\n",
       "  )\n",
       ")"
      ]
     },
     "execution_count": 3,
     "metadata": {},
     "output_type": "execute_result"
    }
   ],
   "source": [
    "import os, argparse, pickle, torch\n",
    "import pipeline, models, data, utils, visualization\n",
    "\n",
    "\n",
    "model_path = \"training_logs/lstm_embeddings_human_local/model.pth\"\n",
    "\n",
    "# self.model.load_state_dict(torch.load(model_path)) \n",
    "\n",
    "# load model\n",
    "model = torch.load(model_path)\n",
    "model.eval()\n",
    "\n",
    "model(\"hi\")\n",
    "\n",
    "\n"
   ]
  },
  {
   "cell_type": "code",
   "execution_count": null,
   "metadata": {},
   "outputs": [],
   "source": []
  }
 ],
 "metadata": {
  "kernelspec": {
   "display_name": "Python 2",
   "language": "python",
   "name": "python2"
  },
  "language_info": {
   "codemirror_mode": {
    "name": "ipython",
    "version": 2
   },
   "file_extension": ".py",
   "mimetype": "text/x-python",
   "name": "python",
   "nbconvert_exporter": "python",
   "pygments_lexer": "ipython2",
   "version": "2.7.16"
  }
 },
 "nbformat": 4,
 "nbformat_minor": 2
}
